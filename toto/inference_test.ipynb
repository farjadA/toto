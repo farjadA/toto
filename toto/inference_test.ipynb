{
 "cells": [
  {
   "cell_type": "code",
   "execution_count": 1,
   "metadata": {},
   "outputs": [
    {
     "name": "stderr",
     "output_type": "stream",
     "text": [
      "/opt/anaconda3/envs/toto/lib/python3.10/site-packages/gluonts/json.py:102: UserWarning: Using `json`-module for json-handling. Consider installing one of `orjson`, `ujson` to speed up serialization and deserialization.\n",
      "  warnings.warn(\n"
     ]
    }
   ],
   "source": [
    "import torch\n",
    "from data.util.dataset import MaskedTimeseries\n",
    "from inference.forecaster import TotoForecaster\n",
    "from model.toto import Toto\n",
    "\n",
    "# DEVICE = 'cuda'\n",
    "DEVICE = 'cpu'\n",
    "\n",
    "# Load pre-trained Toto model\n",
    "toto = Toto.from_pretrained('Datadog/Toto-Open-Base-1.0').to(DEVICE)\n",
    "\n",
    "# Optional: compile model for enhanced speed\n",
    "toto.compile()\n",
    "\n",
    "forecaster = TotoForecaster(toto.model)\n",
    "\n",
    "# Example input series (7 variables, 4096 timesteps)\n",
    "input_series = torch.randn(7, 4096).to(DEVICE)\n",
    "timestamp_seconds = torch.zeros(7, 4096).to(DEVICE)\n",
    "time_interval_seconds = torch.full((7,), 60*15).to(DEVICE)\n",
    "\n",
    "inputs = MaskedTimeseries(\n",
    "    series=input_series,\n",
    "    padding_mask=torch.full_like(input_series, True, dtype=torch.bool),\n",
    "    id_mask=torch.zeros_like(input_series),\n",
    "    timestamp_seconds=timestamp_seconds,\n",
    "    time_interval_seconds=time_interval_seconds,\n",
    ")\n",
    "\n",
    "# Generate forecasts for next 336 timesteps\n",
    "forecast = forecaster.forecast(\n",
    "    inputs,\n",
    "    prediction_length=336,\n",
    "    num_samples=256,\n",
    "    samples_per_batch=256,\n",
    ")\n",
    "\n",
    "# Access results\n",
    "median_prediction = forecast.median\n",
    "prediction_samples = forecast.samples\n",
    "lower_quantile = forecast.quantile(0.1)\n",
    "upper_quantile = forecast.quantile(0.9)\n"
   ]
  },
  {
   "cell_type": "code",
   "execution_count": 2,
   "metadata": {},
   "outputs": [
    {
     "data": {
      "text/plain": [
       "torch.Size([1, 7, 336])"
      ]
     },
     "execution_count": 2,
     "metadata": {},
     "output_type": "execute_result"
    }
   ],
   "source": [
    "median_prediction.shape"
   ]
  }
 ],
 "metadata": {
  "kernelspec": {
   "display_name": "toto",
   "language": "python",
   "name": "python3"
  },
  "language_info": {
   "codemirror_mode": {
    "name": "ipython",
    "version": 3
   },
   "file_extension": ".py",
   "mimetype": "text/x-python",
   "name": "python",
   "nbconvert_exporter": "python",
   "pygments_lexer": "ipython3",
   "version": "3.10.16"
  }
 },
 "nbformat": 4,
 "nbformat_minor": 2
}
